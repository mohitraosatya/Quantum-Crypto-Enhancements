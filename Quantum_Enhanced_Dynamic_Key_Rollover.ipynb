{
  "nbformat": 4,
  "nbformat_minor": 0,
  "metadata": {
    "colab": {
      "provenance": [],
      "authorship_tag": "ABX9TyPjadKsLJD2TBcKOifsqM15",
      "include_colab_link": true
    },
    "kernelspec": {
      "name": "python3",
      "display_name": "Python 3"
    },
    "language_info": {
      "name": "python"
    },
    "widgets": {
      "application/vnd.jupyter.widget-state+json": {
        "f99a1ee3392944a090a45aac7f145ab0": {
          "model_module": "@jupyter-widgets/controls",
          "model_name": "TextModel",
          "model_module_version": "1.5.0",
          "state": {
            "_dom_classes": [],
            "_model_module": "@jupyter-widgets/controls",
            "_model_module_version": "1.5.0",
            "_model_name": "TextModel",
            "_view_count": null,
            "_view_module": "@jupyter-widgets/controls",
            "_view_module_version": "1.5.0",
            "_view_name": "TextView",
            "continuous_update": true,
            "description": "Message:",
            "description_tooltip": null,
            "disabled": false,
            "layout": "IPY_MODEL_66f74155fe844878beb51e16ba52582c",
            "placeholder": "​",
            "style": "IPY_MODEL_8a5c67217e6b4b07b24bdc4a333e26d2",
            "value": "Hello, Quantum World!"
          }
        },
        "66f74155fe844878beb51e16ba52582c": {
          "model_module": "@jupyter-widgets/base",
          "model_name": "LayoutModel",
          "model_module_version": "1.2.0",
          "state": {
            "_model_module": "@jupyter-widgets/base",
            "_model_module_version": "1.2.0",
            "_model_name": "LayoutModel",
            "_view_count": null,
            "_view_module": "@jupyter-widgets/base",
            "_view_module_version": "1.2.0",
            "_view_name": "LayoutView",
            "align_content": null,
            "align_items": null,
            "align_self": null,
            "border": null,
            "bottom": null,
            "display": null,
            "flex": null,
            "flex_flow": null,
            "grid_area": null,
            "grid_auto_columns": null,
            "grid_auto_flow": null,
            "grid_auto_rows": null,
            "grid_column": null,
            "grid_gap": null,
            "grid_row": null,
            "grid_template_areas": null,
            "grid_template_columns": null,
            "grid_template_rows": null,
            "height": null,
            "justify_content": null,
            "justify_items": null,
            "left": null,
            "margin": null,
            "max_height": null,
            "max_width": null,
            "min_height": null,
            "min_width": null,
            "object_fit": null,
            "object_position": null,
            "order": null,
            "overflow": null,
            "overflow_x": null,
            "overflow_y": null,
            "padding": null,
            "right": null,
            "top": null,
            "visibility": null,
            "width": "80%"
          }
        },
        "8a5c67217e6b4b07b24bdc4a333e26d2": {
          "model_module": "@jupyter-widgets/controls",
          "model_name": "DescriptionStyleModel",
          "model_module_version": "1.5.0",
          "state": {
            "_model_module": "@jupyter-widgets/controls",
            "_model_module_version": "1.5.0",
            "_model_name": "DescriptionStyleModel",
            "_view_count": null,
            "_view_module": "@jupyter-widgets/base",
            "_view_module_version": "1.2.0",
            "_view_name": "StyleView",
            "description_width": ""
          }
        },
        "30ad388cf27f4b079596157015ecd415": {
          "model_module": "@jupyter-widgets/controls",
          "model_name": "IntSliderModel",
          "model_module_version": "1.5.0",
          "state": {
            "_dom_classes": [],
            "_model_module": "@jupyter-widgets/controls",
            "_model_module_version": "1.5.0",
            "_model_name": "IntSliderModel",
            "_view_count": null,
            "_view_module": "@jupyter-widgets/controls",
            "_view_module_version": "1.5.0",
            "_view_name": "IntSliderView",
            "continuous_update": true,
            "description": "Nonce:",
            "description_tooltip": null,
            "disabled": false,
            "layout": "IPY_MODEL_a3b46b162a4b46678b5761cf13959451",
            "max": 100,
            "min": 1,
            "orientation": "horizontal",
            "readout": true,
            "readout_format": "d",
            "step": 1,
            "style": "IPY_MODEL_ab4b93aa929244d78fdf6b4e2fab59a8",
            "value": 100
          }
        },
        "a3b46b162a4b46678b5761cf13959451": {
          "model_module": "@jupyter-widgets/base",
          "model_name": "LayoutModel",
          "model_module_version": "1.2.0",
          "state": {
            "_model_module": "@jupyter-widgets/base",
            "_model_module_version": "1.2.0",
            "_model_name": "LayoutModel",
            "_view_count": null,
            "_view_module": "@jupyter-widgets/base",
            "_view_module_version": "1.2.0",
            "_view_name": "LayoutView",
            "align_content": null,
            "align_items": null,
            "align_self": null,
            "border": null,
            "bottom": null,
            "display": null,
            "flex": null,
            "flex_flow": null,
            "grid_area": null,
            "grid_auto_columns": null,
            "grid_auto_flow": null,
            "grid_auto_rows": null,
            "grid_column": null,
            "grid_gap": null,
            "grid_row": null,
            "grid_template_areas": null,
            "grid_template_columns": null,
            "grid_template_rows": null,
            "height": null,
            "justify_content": null,
            "justify_items": null,
            "left": null,
            "margin": null,
            "max_height": null,
            "max_width": null,
            "min_height": null,
            "min_width": null,
            "object_fit": null,
            "object_position": null,
            "order": null,
            "overflow": null,
            "overflow_x": null,
            "overflow_y": null,
            "padding": null,
            "right": null,
            "top": null,
            "visibility": null,
            "width": null
          }
        },
        "ab4b93aa929244d78fdf6b4e2fab59a8": {
          "model_module": "@jupyter-widgets/controls",
          "model_name": "SliderStyleModel",
          "model_module_version": "1.5.0",
          "state": {
            "_model_module": "@jupyter-widgets/controls",
            "_model_module_version": "1.5.0",
            "_model_name": "SliderStyleModel",
            "_view_count": null,
            "_view_module": "@jupyter-widgets/base",
            "_view_module_version": "1.2.0",
            "_view_name": "StyleView",
            "description_width": "",
            "handle_color": null
          }
        },
        "05e8b34eafd046b2a97f0c3877b36c13": {
          "model_module": "@jupyter-widgets/output",
          "model_name": "OutputModel",
          "model_module_version": "1.0.0",
          "state": {
            "_dom_classes": [],
            "_model_module": "@jupyter-widgets/output",
            "_model_module_version": "1.0.0",
            "_model_name": "OutputModel",
            "_view_count": null,
            "_view_module": "@jupyter-widgets/output",
            "_view_module_version": "1.0.0",
            "_view_name": "OutputView",
            "layout": "IPY_MODEL_29fe5ddfb1954bdd985bd545349a7067",
            "msg_id": "",
            "outputs": [
              {
                "output_type": "stream",
                "name": "stdout",
                "text": [
                  "Failed to fetch from QRNG API, status code: 500\n",
                  "Using fallback: secrets module for random numbers.\n",
                  "Dynamic Key (hex): 71fa6fa82d53368149fd8af209ad6ca2\n",
                  "Encrypted message (base64): 5YtEwLNHRwaEP95sBHMyF/t6Sei4ivahq6YrOzvVsgSQOZPM5cmdKJ2ioZuszKVZ\n",
                  "Decrypted message: Hello, Quantum World!\n"
                ]
              }
            ]
          }
        },
        "29fe5ddfb1954bdd985bd545349a7067": {
          "model_module": "@jupyter-widgets/base",
          "model_name": "LayoutModel",
          "model_module_version": "1.2.0",
          "state": {
            "_model_module": "@jupyter-widgets/base",
            "_model_module_version": "1.2.0",
            "_model_name": "LayoutModel",
            "_view_count": null,
            "_view_module": "@jupyter-widgets/base",
            "_view_module_version": "1.2.0",
            "_view_name": "LayoutView",
            "align_content": null,
            "align_items": null,
            "align_self": null,
            "border": null,
            "bottom": null,
            "display": null,
            "flex": null,
            "flex_flow": null,
            "grid_area": null,
            "grid_auto_columns": null,
            "grid_auto_flow": null,
            "grid_auto_rows": null,
            "grid_column": null,
            "grid_gap": null,
            "grid_row": null,
            "grid_template_areas": null,
            "grid_template_columns": null,
            "grid_template_rows": null,
            "height": null,
            "justify_content": null,
            "justify_items": null,
            "left": null,
            "margin": null,
            "max_height": null,
            "max_width": null,
            "min_height": null,
            "min_width": null,
            "object_fit": null,
            "object_position": null,
            "order": null,
            "overflow": null,
            "overflow_x": null,
            "overflow_y": null,
            "padding": null,
            "right": null,
            "top": null,
            "visibility": null,
            "width": null
          }
        }
      }
    }
  },
  "cells": [
    {
      "cell_type": "markdown",
      "metadata": {
        "id": "view-in-github",
        "colab_type": "text"
      },
      "source": [
        "<a href=\"https://colab.research.google.com/github/mohitraosatya/Quantum-Crypto-Enhancements/blob/main/Quantum_Enhanced_Dynamic_Key_Rollover.ipynb\" target=\"_parent\"><img src=\"https://colab.research.google.com/assets/colab-badge.svg\" alt=\"Open In Colab\"/></a>"
      ]
    },
    {
      "cell_type": "code",
      "execution_count": 1,
      "metadata": {
        "colab": {
          "base_uri": "https://localhost:8080/"
        },
        "id": "Ic3P6P5Yd6BS",
        "outputId": "bdfa56ea-a993-4646-e015-82969a05f92a"
      },
      "outputs": [
        {
          "output_type": "stream",
          "name": "stdout",
          "text": [
            "Collecting pycryptodome\n",
            "  Downloading pycryptodome-3.21.0-cp36-abi3-manylinux_2_17_x86_64.manylinux2014_x86_64.whl.metadata (3.4 kB)\n",
            "Downloading pycryptodome-3.21.0-cp36-abi3-manylinux_2_17_x86_64.manylinux2014_x86_64.whl (2.3 MB)\n",
            "\u001b[2K   \u001b[90m━━━━━━━━━━━━━━━━━━━━━━━━━━━━━━━━━━━━━━━━\u001b[0m \u001b[32m2.3/2.3 MB\u001b[0m \u001b[31m15.6 MB/s\u001b[0m eta \u001b[36m0:00:00\u001b[0m\n",
            "\u001b[?25hInstalling collected packages: pycryptodome\n",
            "Successfully installed pycryptodome-3.21.0\n"
          ]
        }
      ],
      "source": [
        "!pip install pycryptodome\n",
        "\n",
        "import requests\n",
        "import secrets\n",
        "import hashlib\n",
        "import numpy as np\n",
        "import matplotlib.pyplot as plt\n",
        "from Crypto.Cipher import AES\n",
        "from Crypto.Util.Padding import pad, unpad\n",
        "import base64\n"
      ]
    },
    {
      "cell_type": "code",
      "source": [
        "def get_quantum_random_numbers(length=16):\n",
        "    \"\"\"\n",
        "    Attempt to fetch quantum random numbers from the ANU QRNG API.\n",
        "    If the API request fails or doesn't return a successful response,\n",
        "    fall back to using the secrets module.\n",
        "    Returns a list of integers (0-255) of the requested length.\n",
        "    \"\"\"\n",
        "    url = f'https://qrng.anu.edu.au/API/jsonI.php?length={length}&type=uint8'\n",
        "    try:\n",
        "        response = requests.get(url, timeout=10)  # timeout to prevent long waits\n",
        "        if response.status_code == 200:\n",
        "            data = response.json()\n",
        "            if data.get('success'):\n",
        "                return data['data']\n",
        "            else:\n",
        "                print(\"QRNG API did not return a successful response. Using fallback.\")\n",
        "        else:\n",
        "            print(\"Failed to fetch from QRNG API, status code:\", response.status_code)\n",
        "    except Exception as e:\n",
        "        print(\"Exception encountered while fetching from QRNG API:\", e)\n",
        "\n",
        "    # Fallback: Use Python's cryptographically secure randomness\n",
        "    print(\"Using fallback: secrets module for random numbers.\")\n",
        "    return [secrets.randbelow(256) for _ in range(length)]\n",
        "\n",
        "# Test fetching 16 bytes (for a 128-bit key)\n",
        "quantum_bytes_test = get_quantum_random_numbers(16)\n",
        "print(\"Test quantum random numbers:\", quantum_bytes_test)\n"
      ],
      "metadata": {
        "colab": {
          "base_uri": "https://localhost:8080/"
        },
        "id": "y561wyMvd7PM",
        "outputId": "42fd7671-1a7a-4c48-bbb6-5540ac40f538"
      },
      "execution_count": 2,
      "outputs": [
        {
          "output_type": "stream",
          "name": "stdout",
          "text": [
            "Test quantum random numbers: [9, 247, 229, 98, 129, 241, 14, 45, 54, 131, 116, 41, 202, 12, 123, 219]\n"
          ]
        }
      ]
    },
    {
      "cell_type": "code",
      "source": [
        "def simulate_pqc_kem():\n",
        "    \"\"\"\n",
        "    Simulate a post-quantum key encapsulation mechanism (KEM) process.\n",
        "    Returns a simulated shared secret (32 bytes).\n",
        "    In a real implementation, this would derive the secret from a PQC algorithm.\n",
        "    \"\"\"\n",
        "    shared_secret = secrets.token_bytes(32)\n",
        "    return shared_secret\n",
        "\n",
        "# Generate the base shared secret (simulated)\n",
        "base_shared_secret = simulate_pqc_kem()\n",
        "print(\"Simulated PQC shared secret (hex):\", base_shared_secret.hex())\n"
      ],
      "metadata": {
        "colab": {
          "base_uri": "https://localhost:8080/"
        },
        "id": "gHtSRjEPd_ZY",
        "outputId": "c7d41c2b-68c7-46ec-ce5b-11dde9c2477a"
      },
      "execution_count": 3,
      "outputs": [
        {
          "output_type": "stream",
          "name": "stdout",
          "text": [
            "Simulated PQC shared secret (hex): e135e4115af4451f047f3333552a27b254974a0b2b1dba9effdcbb1db60ea9e8\n"
          ]
        }
      ]
    },
    {
      "cell_type": "code",
      "source": [
        "def aes_encrypt(plaintext, key):\n",
        "    \"\"\"\n",
        "    Encrypt plaintext using AES (CBC mode) with the given key.\n",
        "    Returns the IV and ciphertext (both as bytes).\n",
        "    \"\"\"\n",
        "    cipher = AES.new(key, AES.MODE_CBC)  # Random IV is generated automatically\n",
        "    ct_bytes = cipher.encrypt(pad(plaintext.encode('utf-8'), AES.block_size))\n",
        "    return cipher.iv, ct_bytes\n",
        "\n",
        "def aes_decrypt(iv, ciphertext, key):\n",
        "    \"\"\"\n",
        "    Decrypt ciphertext using AES (CBC mode) with the given key and IV.\n",
        "    Returns the plaintext string.\n",
        "    \"\"\"\n",
        "    cipher = AES.new(key, AES.MODE_CBC, iv)\n",
        "    pt = unpad(cipher.decrypt(ciphertext), AES.block_size)\n",
        "    return pt.decode('utf-8')\n"
      ],
      "metadata": {
        "id": "HIlcc7F1eEZ2"
      },
      "execution_count": 4,
      "outputs": []
    },
    {
      "cell_type": "code",
      "source": [
        "def derive_dynamic_key(shared_secret, nonce):\n",
        "    \"\"\"\n",
        "    Derives a dynamic AES key by combining:\n",
        "    - The base shared secret from the simulated PQC KEM.\n",
        "    - Fresh quantum randomness (same length as the shared secret).\n",
        "    - A nonce (to ensure uniqueness for each message).\n",
        "\n",
        "    The three components are concatenated and then hashed with SHA-256.\n",
        "    The first 16 bytes of the hash are returned as the AES key.\n",
        "    \"\"\"\n",
        "    # Fetch quantum random bytes equal in length to the shared secret\n",
        "    quantum_random = bytes(get_quantum_random_numbers(len(shared_secret)))\n",
        "\n",
        "    # Combine the shared secret, quantum randomness, and nonce (converted to 4 bytes)\n",
        "    combined_data = shared_secret + quantum_random + nonce.to_bytes(4, 'big')\n",
        "\n",
        "    # Derive the final key by hashing and taking the first 16 bytes (for AES-128)\n",
        "    derived_key = hashlib.sha256(combined_data).digest()[:16]\n",
        "    return derived_key\n",
        "\n",
        "# Example: Derive a dynamic key with nonce 1\n",
        "test_key = derive_dynamic_key(base_shared_secret, nonce=1)\n",
        "print(\"Derived dynamic key (hex):\", test_key.hex())\n"
      ],
      "metadata": {
        "colab": {
          "base_uri": "https://localhost:8080/"
        },
        "id": "ngoDgRZmeJtc",
        "outputId": "1f7e443d-7478-4d5b-9bf6-cf71882d15fe"
      },
      "execution_count": 5,
      "outputs": [
        {
          "output_type": "stream",
          "name": "stdout",
          "text": [
            "Failed to fetch from QRNG API, status code: 500\n",
            "Using fallback: secrets module for random numbers.\n",
            "Derived dynamic key (hex): fe4c5c51b8226adb9b8fee2d228a5196\n"
          ]
        }
      ]
    },
    {
      "cell_type": "code",
      "source": [
        "# Define a list of messages to simulate dynamic key rollover in secure communications\n",
        "messages = [\n",
        "    \"Hello, this is message 1 with dynamic key rollover.\",\n",
        "    \"Message 2 is secured with a fresh key derived from quantum randomness.\",\n",
        "    \"Dynamic key rollover enhances security by constantly updating encryption keys.\",\n",
        "    \"This is message 4, encrypted with a quantum-enhanced key.\",\n",
        "    \"Final message: continuous key updates mitigate long-term key compromise.\"\n",
        "]\n",
        "\n",
        "encrypted_messages = []\n",
        "decrypted_messages = []\n",
        "\n",
        "# For each message, derive a dynamic key with an increasing nonce, then encrypt and decrypt\n",
        "for i, msg in enumerate(messages, start=1):\n",
        "    # Derive a dynamic key using the base shared secret and current nonce\n",
        "    dynamic_key = derive_dynamic_key(base_shared_secret, nonce=i)\n",
        "\n",
        "    # Encrypt the message\n",
        "    iv, ciphertext = aes_encrypt(msg, dynamic_key)\n",
        "    encrypted = base64.b64encode(iv + ciphertext).decode()\n",
        "    encrypted_messages.append(encrypted)\n",
        "\n",
        "    # Decrypt the message\n",
        "    decrypted = aes_decrypt(iv, ciphertext, dynamic_key)\n",
        "    decrypted_messages.append(decrypted)\n",
        "\n",
        "    print(f\"Message {i}:\")\n",
        "    print(\"  Derived key (hex):\", dynamic_key.hex())\n",
        "    print(\"  Encrypted:\", encrypted)\n",
        "    print(\"  Decrypted:\", decrypted)\n",
        "    print(\"-\" * 60)\n",
        "\n",
        "# Optional: Visualize the distribution of quantum randomness used in dynamic key derivation\n",
        "quantum_random_numbers_large = get_quantum_random_numbers(256)\n",
        "plt.figure(figsize=(10, 4))\n",
        "plt.hist(quantum_random_numbers_large, bins=range(0, 257, 5), color='skyblue', edgecolor='black')\n",
        "plt.title(\"Distribution of Quantum Random Numbers (for Dynamic Key Derivation)\")\n",
        "plt.xlabel(\"Value\")\n",
        "plt.ylabel(\"Frequency\")\n",
        "plt.show()\n"
      ],
      "metadata": {
        "colab": {
          "base_uri": "https://localhost:8080/",
          "height": 1000
        },
        "id": "6BfavCbeeOtC",
        "outputId": "d36c1701-1dd4-4dca-b46e-17cd4461964b"
      },
      "execution_count": 6,
      "outputs": [
        {
          "output_type": "stream",
          "name": "stdout",
          "text": [
            "Failed to fetch from QRNG API, status code: 500\n",
            "Using fallback: secrets module for random numbers.\n",
            "Message 1:\n",
            "  Derived key (hex): 2062cd2b45e27467720a4829041f1039\n",
            "  Encrypted: C/E/wjvLqSYED/o8IBR56vYbrhZKyqYb0UYxARZGWGz1uwHPRHjtK1Z5MWHXT9uh4I1gfAXc02wHnAawK6X4vOPkae627wHMpsz+cKM2DJg=\n",
            "  Decrypted: Hello, this is message 1 with dynamic key rollover.\n",
            "------------------------------------------------------------\n",
            "Failed to fetch from QRNG API, status code: 500\n",
            "Using fallback: secrets module for random numbers.\n",
            "Message 2:\n",
            "  Derived key (hex): 1a039674df8f901725f5ca82604f700b\n",
            "  Encrypted: C32RbFT1TkMKB5bwOEfLOPFShP/UgF8QoLm8h95CQPx5JXKvbTuQr4FZKXv5lVP/vb1KfB6O1qe84VmoGnn0wIOdnWF0wEIKzBr1cjAM6fNFlidpL5k2LZfDCplaiTkg\n",
            "  Decrypted: Message 2 is secured with a fresh key derived from quantum randomness.\n",
            "------------------------------------------------------------\n",
            "Failed to fetch from QRNG API, status code: 500\n",
            "Using fallback: secrets module for random numbers.\n",
            "Message 3:\n",
            "  Derived key (hex): bb2ffce59651de31178d305a41dbef21\n",
            "  Encrypted: 8uyEUDlqfn29GomUokSD0ePiDGVXjddehbmz9ng7bCZkZW/inPmXKyE8HzdVUTPVMXo9Ak0phs4foBQOR1FyZS5WpXQ9DLl5b7wttsOTYZSqlbzsO/qxNYNA6NxvI5BC\n",
            "  Decrypted: Dynamic key rollover enhances security by constantly updating encryption keys.\n",
            "------------------------------------------------------------\n",
            "Failed to fetch from QRNG API, status code: 500\n",
            "Using fallback: secrets module for random numbers.\n",
            "Message 4:\n",
            "  Derived key (hex): f450316de9930bb7ab0e6273bc9d7e10\n",
            "  Encrypted: bULASn0wddoWTrZeHn0CFg3PIQ1/WycAIng+rXSKila3b8JTRgvXPpaw3kQnRhRzx0iGGr+eNOqf5FKb1K1Cpbko0mENOFnTmC4BFV9s2y4=\n",
            "  Decrypted: This is message 4, encrypted with a quantum-enhanced key.\n",
            "------------------------------------------------------------\n",
            "Failed to fetch from QRNG API, status code: 500\n",
            "Using fallback: secrets module for random numbers.\n",
            "Message 5:\n",
            "  Derived key (hex): df59521562c91263fd503a1cc2777210\n",
            "  Encrypted: eHq6dwCooODBW/u0d+Wy8/R2eXe+o45pZHHHd9YSZPSC7Syoo5y9B4rplytOkmyjXgjxKH53VKvFFJF2+5xHFFWW6ck1erMsFjX6jLarm9zvejd7guHjNbiukxFKDoz6\n",
            "  Decrypted: Final message: continuous key updates mitigate long-term key compromise.\n",
            "------------------------------------------------------------\n",
            "Failed to fetch from QRNG API, status code: 500\n",
            "Using fallback: secrets module for random numbers.\n"
          ]
        },
        {
          "output_type": "display_data",
          "data": {
            "text/plain": [
              "<Figure size 1000x400 with 1 Axes>"
            ],
            "image/png": "[encoded data removed]"
          },
          "metadata": {}
        }
      ]
    },
    {
      "cell_type": "code",
      "source": [
        "import ipywidgets as widgets\n",
        "from IPython.display import display, clear_output\n",
        "\n",
        "def dynamic_key_demo(message, nonce):\n",
        "    \"\"\"\n",
        "    Derives a dynamic key based on a given message and nonce,\n",
        "    then encrypts and decrypts the message to demonstrate the process.\n",
        "    Returns the derived key, encrypted message, and decrypted message.\n",
        "    \"\"\"\n",
        "    dynamic_key = derive_dynamic_key(base_shared_secret, nonce)\n",
        "    iv, ciphertext = aes_encrypt(message, dynamic_key)\n",
        "    encrypted = base64.b64encode(iv + ciphertext).decode()\n",
        "    decrypted = aes_decrypt(iv, ciphertext, dynamic_key)\n",
        "    return dynamic_key, encrypted, decrypted\n",
        "\n",
        "# Create interactive widgets for user input.\n",
        "message_widget = widgets.Text(\n",
        "    value=\"Hello, Quantum World!\",\n",
        "    description=\"Message:\",\n",
        "    disabled=False,\n",
        "    layout=widgets.Layout(width='80%')\n",
        ")\n",
        "nonce_widget = widgets.IntSlider(\n",
        "    value=1,\n",
        "    min=1,\n",
        "    max=100,\n",
        "    step=1,\n",
        "    description='Nonce:',\n",
        "    continuous_update=True,\n",
        "    orientation='horizontal',\n",
        "    readout=True\n",
        ")\n",
        "output_box = widgets.Output()\n",
        "\n",
        "def update_demo(change):\n",
        "    with output_box:\n",
        "        clear_output()\n",
        "        msg = message_widget.value\n",
        "        nonce = nonce_widget.value\n",
        "        key, encrypted, decrypted = dynamic_key_demo(msg, nonce)\n",
        "        print(\"Dynamic Key (hex):\", key.hex())\n",
        "        print(\"Encrypted message (base64):\", encrypted)\n",
        "        print(\"Decrypted message:\", decrypted)\n",
        "\n",
        "# Link widget changes to the update function.\n",
        "message_widget.observe(update_demo, names='value')\n",
        "nonce_widget.observe(update_demo, names='value')\n",
        "\n",
        "# Display the interactive widgets.\n",
        "display(message_widget, nonce_widget, output_box)\n",
        "update_demo(None)\n"
      ],
      "metadata": {
        "colab": {
          "base_uri": "https://localhost:8080/",
          "height": 165,
          "referenced_widgets": [
            "f99a1ee3392944a090a45aac7f145ab0",
            "66f74155fe844878beb51e16ba52582c",
            "8a5c67217e6b4b07b24bdc4a333e26d2",
            "30ad388cf27f4b079596157015ecd415",
            "a3b46b162a4b46678b5761cf13959451",
            "ab4b93aa929244d78fdf6b4e2fab59a8",
            "05e8b34eafd046b2a97f0c3877b36c13",
            "29fe5ddfb1954bdd985bd545349a7067"
          ]
        },
        "id": "ssNSztTJeonq",
        "outputId": "5c8d790f-8047-4351-a726-d6f3ab8f0140"
      },
      "execution_count": 7,
      "outputs": [
        {
          "output_type": "display_data",
          "data": {
            "text/plain": [
              "Text(value='Hello, Quantum World!', description='Message:', layout=Layout(width='80%'))"
            ],
            "application/vnd.jupyter.widget-view+json": {
              "version_major": 2,
              "version_minor": 0,
              "model_id": "f99a1ee3392944a090a45aac7f145ab0"
            }
          },
          "metadata": {}
        },
        {
          "output_type": "display_data",
          "data": {
            "text/plain": [
              "IntSlider(value=1, description='Nonce:', min=1)"
            ],
            "application/vnd.jupyter.widget-view+json": {
              "version_major": 2,
              "version_minor": 0,
              "model_id": "30ad388cf27f4b079596157015ecd415"
            }
          },
          "metadata": {}
        },
        {
          "output_type": "display_data",
          "data": {
            "text/plain": [
              "Output()"
            ],
            "application/vnd.jupyter.widget-view+json": {
              "version_major": 2,
              "version_minor": 0,
              "model_id": "05e8b34eafd046b2a97f0c3877b36c13"
            }
          },
          "metadata": {}
        }
      ]
    }
  ]
}