{
  "nbformat": 4,
  "nbformat_minor": 0,
  "metadata": {
    "colab": {
      "provenance": [],
      "authorship_tag": "ABX9TyMl57iSCMEcHqodbHkVLB2k",
      "include_colab_link": true
    },
    "kernelspec": {
      "name": "python3",
      "display_name": "Python 3"
    },
    "language_info": {
      "name": "python"
    }
  },
  "cells": [
    {
      "cell_type": "markdown",
      "metadata": {
        "id": "view-in-github",
        "colab_type": "text"
      },
      "source": [
        "<a href=\"https://colab.research.google.com/github/mohitraosatya/Quantum-Crypto-Enhancements/blob/main/Quantum_Secure_Cryptography_Sandbox.ipynb\" target=\"_parent\"><img src=\"https://colab.research.google.com/assets/colab-badge.svg\" alt=\"Open In Colab\"/></a>"
      ]
    },
    {
      "cell_type": "code",
      "execution_count": 1,
      "metadata": {
        "colab": {
          "base_uri": "https://localhost:8080/"
        },
        "id": "5ySRnmWC7RRb",
        "outputId": "d95715d3-ca85-4d6c-c561-6b24af5c0285"
      },
      "outputs": [
        {
          "output_type": "stream",
          "name": "stdout",
          "text": [
            "Collecting pycryptodome\n",
            "  Downloading pycryptodome-3.21.0-cp36-abi3-manylinux_2_17_x86_64.manylinux2014_x86_64.whl.metadata (3.4 kB)\n",
            "Downloading pycryptodome-3.21.0-cp36-abi3-manylinux_2_17_x86_64.manylinux2014_x86_64.whl (2.3 MB)\n",
            "\u001b[2K   \u001b[90m━━━━━━━━━━━━━━━━━━━━━━━━━━━━━━━━━━━━━━━━\u001b[0m \u001b[32m2.3/2.3 MB\u001b[0m \u001b[31m14.6 MB/s\u001b[0m eta \u001b[36m0:00:00\u001b[0m\n",
            "\u001b[?25hInstalling collected packages: pycryptodome\n",
            "Successfully installed pycryptodome-3.21.0\n"
          ]
        }
      ],
      "source": [
        "!pip install pycryptodome\n",
        "\n",
        "import requests\n",
        "import secrets\n",
        "import numpy as np\n",
        "import matplotlib.pyplot as plt\n",
        "from Crypto.Cipher import AES\n",
        "from Crypto.Util.Padding import pad, unpad\n",
        "import base64\n"
      ]
    },
    {
      "cell_type": "code",
      "source": [
        "def get_quantum_random_numbers(length=16):\n",
        "    \"\"\"\n",
        "    Attempt to fetch quantum random numbers from the ANU QRNG API.\n",
        "    If the API request fails or doesn't return a successful response,\n",
        "    fall back to using the secrets module.\n",
        "    Returns a list of integers (0-255) of the requested length.\n",
        "    \"\"\"\n",
        "    url = f'https://qrng.anu.edu.au/API/jsonI.php?length={length}&type=uint8'\n",
        "    try:\n",
        "        response = requests.get(url, timeout=10)  # timeout to prevent long waits\n",
        "        if response.status_code == 200:\n",
        "            data = response.json()\n",
        "            if data.get('success'):\n",
        "                return data['data']\n",
        "            else:\n",
        "                print(\"QRNG API did not return a successful response. Using fallback.\")\n",
        "        else:\n",
        "            print(\"Failed to fetch from QRNG API, status code:\", response.status_code)\n",
        "    except Exception as e:\n",
        "        print(\"Exception encountered while fetching from QRNG API:\", e)\n",
        "\n",
        "    # Fallback: Use Python's cryptographically secure randomness\n",
        "    print(\"Using fallback: secrets module for random numbers.\")\n",
        "    return [secrets.randbelow(256) for _ in range(length)]\n",
        "\n",
        "# Example: Fetch 16 quantum random numbers for a 128-bit AES key\n",
        "quantum_random_numbers = get_quantum_random_numbers(16)\n",
        "print(\"Quantum Random Numbers:\", quantum_random_numbers)\n",
        "\n",
        "# Convert to bytes for key use\n",
        "quantum_key = bytes(quantum_random_numbers)\n",
        "print(\"Quantum AES Key (base64 encoded):\", base64.b64encode(quantum_key).decode())\n"
      ],
      "metadata": {
        "colab": {
          "base_uri": "https://localhost:8080/"
        },
        "id": "4lYxjbkDS5bh",
        "outputId": "1695e016-a272-4510-9ccc-0e579dbf65cb"
      },
      "execution_count": 2,
      "outputs": [
        {
          "output_type": "stream",
          "name": "stdout",
          "text": [
            "Quantum Random Numbers: [148, 203, 76, 206, 169, 187, 2, 217, 165, 80, 11, 82, 42, 145, 75, 126]\n",
            "Quantum AES Key (base64 encoded): lMtMzqm7AtmlUAtSKpFLfg==\n"
          ]
        }
      ]
    },
    {
      "cell_type": "code",
      "source": [
        "def aes_encrypt(plaintext, key):\n",
        "    \"\"\"\n",
        "    Encrypt plaintext using AES (CBC mode) with the given key.\n",
        "    Returns the IV and ciphertext (both as bytes).\n",
        "    \"\"\"\n",
        "    cipher = AES.new(key, AES.MODE_CBC)  # Automatically generates a random IV\n",
        "    ct_bytes = cipher.encrypt(pad(plaintext.encode('utf-8'), AES.block_size))\n",
        "    return cipher.iv, ct_bytes\n",
        "\n",
        "def aes_decrypt(iv, ciphertext, key):\n",
        "    \"\"\"\n",
        "    Decrypt ciphertext using AES (CBC mode) with the given key and IV.\n",
        "    Returns the plaintext string.\n",
        "    \"\"\"\n",
        "    cipher = AES.new(key, AES.MODE_CBC, iv)\n",
        "    pt = unpad(cipher.decrypt(ciphertext), AES.block_size)\n",
        "    return pt.decode('utf-8')\n",
        "\n",
        "# Sample message to encrypt\n",
        "message = \"Hello, this is a quantum-enhanced encryption test!\"\n",
        "\n",
        "# Encrypt the message\n",
        "iv, ciphertext = aes_encrypt(message, quantum_key)\n",
        "encrypted_message = base64.b64encode(iv + ciphertext).decode()\n",
        "print(\"Encrypted message (base64):\", encrypted_message)\n",
        "\n",
        "# Decrypt the message\n",
        "decrypted_message = aes_decrypt(iv, ciphertext, quantum_key)\n",
        "print(\"Decrypted message:\", decrypted_message)\n"
      ],
      "metadata": {
        "colab": {
          "base_uri": "https://localhost:8080/"
        },
        "id": "LYWOvlTzS7_Y",
        "outputId": "2841f881-2da3-4839-9f36-7348cdb6caf4"
      },
      "execution_count": 3,
      "outputs": [
        {
          "output_type": "stream",
          "name": "stdout",
          "text": [
            "Encrypted message (base64): QvJKR0DlhtJzD1Mw8c9Rhd+xmwbBldZaJPvDaAXJFDulDn2QmXoKnk9Td3Qtembd+Ene56mtQ0mT578OSaU148RlbqHqznDtDlKeRvhVsN8=\n",
            "Decrypted message: Hello, this is a quantum-enhanced encryption test!\n"
          ]
        }
      ]
    },
    {
      "cell_type": "code",
      "source": [
        "# For a simple visualization, fetch a larger batch of random numbers\n",
        "quantum_random_numbers_large = get_quantum_random_numbers(256)\n",
        "\n",
        "plt.figure(figsize=(10, 4))\n",
        "plt.hist(quantum_random_numbers_large, bins=range(0, 257, 5), color='skyblue', edgecolor='black')\n",
        "plt.title(\"Distribution of Quantum Random Numbers\")\n",
        "plt.xlabel(\"Value\")\n",
        "plt.ylabel(\"Frequency\")\n",
        "plt.show()\n"
      ],
      "metadata": {
        "colab": {
          "base_uri": "https://localhost:8080/",
          "height": 444
        },
        "id": "OVlqwSVuS-LF",
        "outputId": "1b5e13dc-2be1-43f0-cc85-d87ed56fcb69"
      },
      "execution_count": 4,
      "outputs": [
        {
          "output_type": "stream",
          "name": "stdout",
          "text": [
            "Failed to fetch from QRNG API, status code: 500\n",
            "Using fallback: secrets module for random numbers.\n"
          ]
        },
        {
          "output_type": "display_data",
          "data": {
            "text/plain": [
              "<Figure size 1000x400 with 1 Axes>"
            ],
            "image/png": "[encoded data removed]"
          },
          "metadata": {}
        }
      ]
    },
    {
      "cell_type": "code",
      "source": [
        "import secrets\n",
        "import hashlib\n",
        "\n",
        "def simulate_pqc_kem():\n",
        "    \"\"\"\n",
        "    Simulate a post-quantum key encapsulation mechanism (KEM) process.\n",
        "    This dummy function represents the encapsulation/decapsulation process,\n",
        "    and returns a simulated shared secret (32 bytes).\n",
        "\n",
        "    In a real PQC KEM, the shared secret would be derived from a public key\n",
        "    encryption scheme (e.g., a lattice-based algorithm). Here, we simply generate\n",
        "    a random 32-byte secret to simulate this.\n",
        "    \"\"\"\n",
        "    shared_secret = secrets.token_bytes(32)\n",
        "    return shared_secret\n",
        "\n",
        "# Simulate generating a PQC shared secret (as if from an encapsulation process)\n",
        "simulated_shared_secret = simulate_pqc_kem()\n",
        "print(\"Simulated PQC shared secret (hex):\", simulated_shared_secret.hex())\n",
        "\n",
        "# Fetch quantum randomness of equal length to the shared secret\n",
        "quantum_random_bytes = bytes(get_quantum_random_numbers(len(simulated_shared_secret)))\n",
        "print(\"Quantum random bytes (hex):\", quantum_random_bytes.hex())\n",
        "\n",
        "# Combine the simulated PQC shared secret with quantum randomness.\n",
        "# We demonstrate two methods:\n",
        "\n",
        "# 1. XOR the bytes together:\n",
        "combined_key_xor = bytes(a ^ b for a, b in zip(simulated_shared_secret, quantum_random_bytes))\n",
        "print(\"Combined key via XOR (hex):\", combined_key_xor.hex())\n",
        "\n",
        "# 2. Concatenate and hash them using SHA256 to produce a uniform 32-byte output:\n",
        "combined_key_hash = hashlib.sha256(simulated_shared_secret + quantum_random_bytes).digest()\n",
        "print(\"Combined key via SHA256 (hex):\", combined_key_hash.hex())\n",
        "\n",
        "# For AES encryption, we need a key of 16, 24, or 32 bytes.\n",
        "# Here, we take the first 16 bytes of the hash-based combined key.\n",
        "pqc_aes_key = combined_key_hash[:16]\n",
        "\n",
        "# Encrypt and decrypt a sample message using the final quantum-enhanced PQC key.\n",
        "iv_pqc, ciphertext_pqc = aes_encrypt(message, pqc_aes_key)\n",
        "encrypted_message_pqc = base64.b64encode(iv_pqc + ciphertext_pqc).decode()\n",
        "print(\"Encrypted message with quantum-enhanced PQC key (base64):\", encrypted_message_pqc)\n",
        "\n",
        "decrypted_message_pqc = aes_decrypt(iv_pqc, ciphertext_pqc, pqc_aes_key)\n",
        "print(\"Decrypted message with quantum-enhanced PQC key:\", decrypted_message_pqc)\n"
      ],
      "metadata": {
        "colab": {
          "base_uri": "https://localhost:8080/"
        },
        "id": "vjjpjKgccev9",
        "outputId": "ea7d881e-05ac-4596-d675-e2897f7249fe"
      },
      "execution_count": 5,
      "outputs": [
        {
          "output_type": "stream",
          "name": "stdout",
          "text": [
            "Simulated PQC shared secret (hex): 38eefd0f5f8b7111230569ac5ac0602230b0a83cd9ee4e292856579b8a8346d2\n",
            "Failed to fetch from QRNG API, status code: 500\n",
            "Using fallback: secrets module for random numbers.\n",
            "Quantum random bytes (hex): b6ae775f10a26d6c12ab60287548cab73c4b08ad06377c55da718e1909343da5\n",
            "Combined key via XOR (hex): 8e408a504f291c7d31ae09842f88aa950cfba091dfd9327cf227d98283b77b77\n",
            "Combined key via SHA256 (hex): 07e9fcf9ac8604d63efc41bc08f83013d51f8d2cf728011085c66fff2c2c7334\n",
            "Encrypted message with quantum-enhanced PQC key (base64): vcVBL8bnW2Nu0zDSjr4+PsDet/KsPHNhWIy2wC2v4Z1MKpUo4ZD6Q1fhU0u8teZ6eCdpPEto+3dlBpkIckQA5wn9Ye06HuBOiAw2s5NbXJo=\n",
            "Decrypted message with quantum-enhanced PQC key: Hello, this is a quantum-enhanced encryption test!\n"
          ]
        }
      ]
    }
  ]
}